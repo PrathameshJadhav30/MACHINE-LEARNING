{
  "nbformat": 4,
  "nbformat_minor": 0,
  "metadata": {
    "colab": {
      "provenance": []
    },
    "kernelspec": {
      "name": "python3",
      "display_name": "Python 3"
    },
    "language_info": {
      "name": "python"
    }
  },
  "cells": [
    {
      "cell_type": "code",
      "execution_count": null,
      "metadata": {
        "colab": {
          "base_uri": "https://localhost:8080/"
        },
        "id": "1KlEDnuIArz8",
        "outputId": "da36dd61-5294-41d8-effe-db6ecc5d11d6"
      },
      "outputs": [
        {
          "output_type": "stream",
          "name": "stdout",
          "text": [
            "Requirement already satisfied: mlxtend in /usr/local/lib/python3.10/dist-packages (0.23.3)\n",
            "Requirement already satisfied: scipy>=1.2.1 in /usr/local/lib/python3.10/dist-packages (from mlxtend) (1.13.1)\n",
            "Requirement already satisfied: numpy>=1.16.2 in /usr/local/lib/python3.10/dist-packages (from mlxtend) (1.26.4)\n",
            "Requirement already satisfied: pandas>=0.24.2 in /usr/local/lib/python3.10/dist-packages (from mlxtend) (2.2.2)\n",
            "Requirement already satisfied: scikit-learn>=1.3.1 in /usr/local/lib/python3.10/dist-packages (from mlxtend) (1.5.2)\n",
            "Requirement already satisfied: matplotlib>=3.0.0 in /usr/local/lib/python3.10/dist-packages (from mlxtend) (3.8.0)\n",
            "Requirement already satisfied: joblib>=0.13.2 in /usr/local/lib/python3.10/dist-packages (from mlxtend) (1.4.2)\n",
            "Requirement already satisfied: contourpy>=1.0.1 in /usr/local/lib/python3.10/dist-packages (from matplotlib>=3.0.0->mlxtend) (1.3.1)\n",
            "Requirement already satisfied: cycler>=0.10 in /usr/local/lib/python3.10/dist-packages (from matplotlib>=3.0.0->mlxtend) (0.12.1)\n",
            "Requirement already satisfied: fonttools>=4.22.0 in /usr/local/lib/python3.10/dist-packages (from matplotlib>=3.0.0->mlxtend) (4.55.0)\n",
            "Requirement already satisfied: kiwisolver>=1.0.1 in /usr/local/lib/python3.10/dist-packages (from matplotlib>=3.0.0->mlxtend) (1.4.7)\n",
            "Requirement already satisfied: packaging>=20.0 in /usr/local/lib/python3.10/dist-packages (from matplotlib>=3.0.0->mlxtend) (24.2)\n",
            "Requirement already satisfied: pillow>=6.2.0 in /usr/local/lib/python3.10/dist-packages (from matplotlib>=3.0.0->mlxtend) (11.0.0)\n",
            "Requirement already satisfied: pyparsing>=2.3.1 in /usr/local/lib/python3.10/dist-packages (from matplotlib>=3.0.0->mlxtend) (3.2.0)\n",
            "Requirement already satisfied: python-dateutil>=2.7 in /usr/local/lib/python3.10/dist-packages (from matplotlib>=3.0.0->mlxtend) (2.8.2)\n",
            "Requirement already satisfied: pytz>=2020.1 in /usr/local/lib/python3.10/dist-packages (from pandas>=0.24.2->mlxtend) (2024.2)\n",
            "Requirement already satisfied: tzdata>=2022.7 in /usr/local/lib/python3.10/dist-packages (from pandas>=0.24.2->mlxtend) (2024.2)\n",
            "Requirement already satisfied: threadpoolctl>=3.1.0 in /usr/local/lib/python3.10/dist-packages (from scikit-learn>=1.3.1->mlxtend) (3.5.0)\n",
            "Requirement already satisfied: six>=1.5 in /usr/local/lib/python3.10/dist-packages (from python-dateutil>=2.7->matplotlib>=3.0.0->mlxtend) (1.16.0)\n"
          ]
        }
      ],
      "source": [
        "pip install mlxtend"
      ]
    },
    {
      "cell_type": "code",
      "source": [
        "import pandas as pd\n",
        "from mlxtend.frequent_patterns import apriori, association_rules\n",
        "\n",
        "# Sample dataset creation: Market Basket Data\n",
        "data = {\n",
        "    'Transaction': [1, 2, 3, 4, 5],\n",
        "    'Milk': [1, 1, 0, 1, 1],\n",
        "    'Bread': [1, 0, 1, 1, 0],\n",
        "    'Butter': [0, 1, 1, 1, 1],\n",
        "    'Cheese': [1, 1, 0, 0, 1],\n",
        "    'Eggs': [0, 1, 1, 1, 0],\n",
        "}\n",
        "\n",
        "# Convert to DataFrame\n",
        "df = pd.DataFrame(data).set_index('Transaction')\n",
        "\n",
        "# Perform Apriori Algorithm\n",
        "frequent_itemsets = apriori(df, min_support=0.5, use_colnames=True)\n",
        "\n",
        "# Generate Association Rules\n",
        "# Added num_itemsets argument, which is the total number of transactions\n",
        "rules = association_rules(frequent_itemsets, metric=\"confidence\", min_threshold=0.7, num_itemsets=len(df))\n",
        "\n",
        "# Display Results\n",
        "print(\"Frequent Itemsets:\\n\", frequent_itemsets)\n",
        "print(\"\\nAssociation Rules:\\n\", rules)"
      ],
      "metadata": {
        "colab": {
          "base_uri": "https://localhost:8080/"
        },
        "id": "oGgWNa0bFJ2x",
        "outputId": "4c17d710-3f0a-4287-8c44-b352d75488e7"
      },
      "execution_count": null,
      "outputs": [
        {
          "output_type": "stream",
          "name": "stdout",
          "text": [
            "Frequent Itemsets:\n",
            "    support        itemsets\n",
            "0      0.8          (Milk)\n",
            "1      0.6         (Bread)\n",
            "2      0.8        (Butter)\n",
            "3      0.6        (Cheese)\n",
            "4      0.6          (Eggs)\n",
            "5      0.6  (Butter, Milk)\n",
            "6      0.6  (Cheese, Milk)\n",
            "7      0.6  (Butter, Eggs)\n",
            "\n",
            "Association Rules:\n",
            "   antecedents consequents  antecedent support  consequent support  support  \\\n",
            "0    (Butter)      (Milk)                 0.8                 0.8      0.6   \n",
            "1      (Milk)    (Butter)                 0.8                 0.8      0.6   \n",
            "2    (Cheese)      (Milk)                 0.6                 0.8      0.6   \n",
            "3      (Milk)    (Cheese)                 0.8                 0.6      0.6   \n",
            "4    (Butter)      (Eggs)                 0.8                 0.6      0.6   \n",
            "5      (Eggs)    (Butter)                 0.6                 0.8      0.6   \n",
            "\n",
            "   confidence    lift  representativity  leverage  conviction  zhangs_metric  \\\n",
            "0        0.75  0.9375               1.0     -0.04         0.8          -0.25   \n",
            "1        0.75  0.9375               1.0     -0.04         0.8          -0.25   \n",
            "2        1.00  1.2500               1.0      0.12         inf           0.50   \n",
            "3        0.75  1.2500               1.0      0.12         1.6           1.00   \n",
            "4        0.75  1.2500               1.0      0.12         1.6           1.00   \n",
            "5        1.00  1.2500               1.0      0.12         inf           0.50   \n",
            "\n",
            "   jaccard  certainty  kulczynski  \n",
            "0     0.60     -0.250       0.750  \n",
            "1     0.60     -0.250       0.750  \n",
            "2     0.75      1.000       0.875  \n",
            "3     0.75      0.375       0.875  \n",
            "4     0.75      0.375       0.875  \n",
            "5     0.75      1.000       0.875  \n"
          ]
        },
        {
          "output_type": "stream",
          "name": "stderr",
          "text": [
            "/usr/local/lib/python3.10/dist-packages/ipykernel/ipkernel.py:283: DeprecationWarning: `should_run_async` will not call `transform_cell` automatically in the future. Please pass the result to `transformed_cell` argument and any exception that happen during thetransform in `preprocessing_exc_tuple` in IPython 7.17 and above.\n",
            "  and should_run_async(code)\n",
            "/usr/local/lib/python3.10/dist-packages/mlxtend/frequent_patterns/fpcommon.py:161: DeprecationWarning: DataFrames with non-bool types result in worse computationalperformance and their support might be discontinued in the future.Please use a DataFrame with bool type\n",
            "  warnings.warn(\n"
          ]
        }
      ]
    },
    {
      "cell_type": "code",
      "source": [],
      "metadata": {
        "id": "woudXWRGFaIw"
      },
      "execution_count": null,
      "outputs": []
    }
  ]
}